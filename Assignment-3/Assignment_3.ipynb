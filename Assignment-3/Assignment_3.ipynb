{
 "cells": [
  {
   "cell_type": "markdown",
   "metadata": {},
   "source": [
    "# Session 3"
   ]
  },
  {
   "cell_type": "markdown",
   "metadata": {},
   "source": [
    "### **Problem Statement**\n",
    "\n",
    "**Task 1:**"
   ]
  },
  {
   "cell_type": "markdown",
   "metadata": {},
   "source": [
    "**1. Write a function to compute 5/0 and use try/except to catch the exceptions.**\n"
   ]
  },
  {
   "cell_type": "code",
   "execution_count": 25,
   "metadata": {},
   "outputs": [
    {
     "data": {
      "text/plain": [
       "\"Can't divide by zero\""
      ]
     },
     "execution_count": 25,
     "metadata": {},
     "output_type": "execute_result"
    }
   ],
   "source": [
    "def exception(n,a):\n",
    "    try:\n",
    "        z= n/a\n",
    "        return z\n",
    "    except ZeroDivisionError:\n",
    "        return \"Can't divide by zero\"\n",
    "            \n",
    "exception(3,0)"
   ]
  },
  {
   "cell_type": "markdown",
   "metadata": {},
   "source": [
    "**2.Implement a Python program to generate all sentences**\n",
    "\n",
    "where subject is in [\"Americans\",\"Indians\"] and \n",
    "\n",
    "verb is in [\"Play\", \"watch\"] and the object is in [\"Baseball\",\"cricket\"].\n",
    "\n",
    "Hint: Subject,Verb and Object should be declared in the program as shown below.\n",
    "subjects=[\"Americans \",\"Indians\"]\n",
    "verbs=[\"play\",\"watch\"]\n",
    "objects=[\"Baseball\",\"Cricket\"]\n",
    "\n",
    "Output should come as below:\n",
    "\n",
    "Americans play Baseball.\n",
    "\n",
    "Americans play Cricket.\n",
    "\n",
    "Americans watch Baseball.\n",
    "\n",
    "Americans watch Cricket.\n",
    "\n",
    "Indians play Baseball.\n",
    "\n",
    "Indians play Cricket.\n",
    "\n",
    "Indians watch Baseball.\n",
    "\n",
    "Indians watch Cricket."
   ]
  },
  {
   "cell_type": "code",
   "execution_count": 33,
   "metadata": {},
   "outputs": [
    {
     "name": "stdout",
     "output_type": "stream",
     "text": [
      "Americans Play Baseball.\n",
      "\n",
      "\n",
      "Americans Play Cricket.\n",
      "\n",
      "\n",
      "Americans Watch Baseball.\n",
      "\n",
      "\n",
      "Americans Watch Cricket.\n",
      "\n",
      "\n",
      "Indians Play Baseball.\n",
      "\n",
      "\n",
      "Indians Play Cricket.\n",
      "\n",
      "\n",
      "Indians Watch Baseball.\n",
      "\n",
      "\n",
      "Indians Watch Cricket.\n",
      "\n",
      "\n"
     ]
    }
   ],
   "source": [
    "def generate(subject, verbs, objects):\n",
    "    for i in subjects:\n",
    "        for j in verbs:\n",
    "            for k in objects:\n",
    "                    print(i+' '+j+' '+k+\".\")\n",
    "                    print(\"\\n\")\n",
    "\n",
    "subjects=['Americans','Indians']\n",
    "verbs=['Play','Watch']\n",
    "objects=['Baseball', 'Cricket']\n",
    "                \n",
    "generate(subjects, verbs, objects)    "
   ]
  },
  {
   "cell_type": "markdown",
   "metadata": {},
   "source": [
    "# Task 2:\n"
   ]
  },
  {
   "cell_type": "markdown",
   "metadata": {},
   "source": [
    "1.Write a function so that the columns of the output matrix are powers of the input vector.\n",
    "The order of the powers is determined by the increasing boolean argument. Specifically, when\n",
    "increasing is False, the i-th output column is the input vector raised element-wise to the power\n",
    "of N - i - 1.\n",
    "\n",
    "HINT: Such a matrix with a geometric progression in each row is named for AlexandreTheophile Vandermonde.\n"
   ]
  },
  {
   "cell_type": "code",
   "execution_count": 97,
   "metadata": {},
   "outputs": [
    {
     "name": "stdout",
     "output_type": "stream",
     "text": [
      "[1, 1, 1, 4, 2, 1, 9, 3, 1, 16, 4, 1]\n",
      "[1, 1, 1, 1, 2, 4, 1, 3, 9, 1, 4, 16]\n",
      "[1, 1, 1, 1, 1, 16, 8, 4, 2, 1, 256, 64, 16, 4, 1, 1296, 216, 36, 6, 1, 4096, 512, 64, 8, 1, 10000, 1000, 100, 10, 1]\n",
      "[1, 1, 1, 1, 1, 1, 2, 4, 8, 16, 1, 4, 16, 64, 256, 1, 6, 36, 216, 1296, 1, 8, 64, 512, 4096, 1, 10, 100, 1000, 10000]\n"
     ]
    }
   ],
   "source": [
    "def geometric_progression(mat, n, increasing=False):\n",
    "    matrix_1=[]\n",
    "    if not increasing:\n",
    "        for x in mat:\n",
    "            for i in range(n):\n",
    "                m_1=(x**(n-1-i))\n",
    "                matrix_1.append(m_1)\n",
    "    elif increasing:\n",
    "        for x in mat:\n",
    "            for i in range(n):\n",
    "                m_2=(x**i)\n",
    "                matrix_1.append(m_2)\n",
    "    print(matrix_1)\n",
    "\n",
    "geometric_progression([1,2,3,4],3,False) \n",
    "geometric_progression([1,2,3,4],3,True) \n",
    "\n",
    "geometric_progression([1,2,4,6,8,10],5,False) \n",
    "geometric_progression([1,2,4,6,8,10],5,True) "
   ]
  },
  {
   "cell_type": "code",
   "execution_count": null,
   "metadata": {},
   "outputs": [],
   "source": []
  }
 ],
 "metadata": {
  "kernelspec": {
   "display_name": "Python 3",
   "language": "python",
   "name": "python3"
  },
  "language_info": {
   "codemirror_mode": {
    "name": "ipython",
    "version": 3
   },
   "file_extension": ".py",
   "mimetype": "text/x-python",
   "name": "python",
   "nbconvert_exporter": "python",
   "pygments_lexer": "ipython3",
   "version": "3.7.3"
  }
 },
 "nbformat": 4,
 "nbformat_minor": 2
}
