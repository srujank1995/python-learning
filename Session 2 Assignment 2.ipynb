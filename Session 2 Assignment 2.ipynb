{
 "cells": [
  {
   "cell_type": "markdown",
   "metadata": {},
   "source": [
    "### Task 1:"
   ]
  },
  {
   "cell_type": "markdown",
   "metadata": {},
   "source": [
    "**1.1 Write a Python Program to implement your own myreduce() function which works exactly like\n",
    "Python's built-in function reduce()**"
   ]
  },
  {
   "cell_type": "code",
   "execution_count": 1,
   "metadata": {},
   "outputs": [
    {
     "name": "stdout",
     "output_type": "stream",
     "text": [
      "My reduce fn: 20\n"
     ]
    }
   ],
   "source": [
    "def my_reduce(function, sequence):\n",
    "    l= sequence[0]\n",
    "    for i in sequence[1:]:\n",
    "        l= function(l, i)\n",
    "    return l \n",
    "\n",
    "#Output\n",
    "def sum(x,y): \n",
    "    return x+y\n",
    "M=my_reduce(sum,[0,2,4,6,8])\n",
    "print(\"My reduce fn:\",M)"
   ]
  },
  {
   "cell_type": "markdown",
   "metadata": {},
   "source": [
    "**1.2 Write a Python program to implement your own myfilter() function which works exactly like\n",
    "Python's built-in function filter()**\n"
   ]
  },
  {
   "cell_type": "code",
   "execution_count": 2,
   "metadata": {},
   "outputs": [
    {
     "name": "stdout",
     "output_type": "stream",
     "text": [
      "Filter function output: ['e']\n"
     ]
    }
   ],
   "source": [
    "def my_filter(function, sequence):\n",
    "    filt= []\n",
    "    for i in sequence:\n",
    "        if function(i):\n",
    "            filt.append(i)\n",
    "    return filt\n",
    "\n",
    "# Output\n",
    "def fun(var):\n",
    "    l=['a','e','i','o','u']\n",
    "    if var in l:\n",
    "        return True\n",
    "    else:\n",
    "        return False\n",
    "M_F=my_filter(fun,['g', 'e', 'k', 'j', 'k', 's', 'p', 'r'])\n",
    "print(\"Filter function output:\", M_F)\n"
   ]
  },
  {
   "cell_type": "markdown",
   "metadata": {},
   "source": [
    "**2. Implement List comprehensions to produce the following lists.**\n",
    "\n",
    "**Write List comprehensions to produce the following Lists**\n",
    "\n",
    "['A', 'C', 'A', 'D', 'G', 'I', ’L’, ‘ D’]\n",
    "\n",
    "['x', 'xx', 'xxx', 'xxxx', 'y', 'yy', 'yyy', 'yyyy', 'z', 'zz', 'zzz', 'zzzz']\n",
    "\n",
    "['x', 'y', 'z', 'xx', 'yy', 'zz', 'xx', 'yy', 'zz', 'xxxx', 'yyyy', 'zzzz']\n",
    "\n",
    "[[2], [3], [4], [3], [4], [5], [4], [5], [6]]\n",
    "\n",
    "[[2, 3, 4, 5], [3, 4, 5, 6], [4, 5, 6, 7], [5, 6, 7, 8]]\n",
    "\n",
    "[(1, 1), (2, 1), (3, 1), (1, 2), (2, 2), (3, 2), (1, 3), (2, 3), (3, 3)]"
   ]
  },
  {
   "cell_type": "code",
   "execution_count": 3,
   "metadata": {},
   "outputs": [
    {
     "name": "stdout",
     "output_type": "stream",
     "text": [
      "['A', 'C', 'A', 'D', 'G', 'I', 'L', 'D']\n",
      "['x', 'xx', 'xxx', 'xxxx', 'y', 'yy', 'yyy', 'yyyy', 'z', 'zz', 'zzz', 'zzzz']\n",
      "['x', 'y', 'z', 'xx', 'yy', 'zz', 'xxx', 'yyy', 'zzz', 'xxxx', 'yyyy', 'zzzz']\n",
      "[[2], [3], [4], [3], [4], [5], [4], [5], [6]]\n",
      "[[2, 3, 4, 5], [3, 4, 5, 6], [4, 5, 6, 7], [5, 6, 7, 8]]\n",
      "[(1, 1), (2, 1), (3, 1), (1, 2), (2, 2), (3, 2), (1, 3), (2, 3), (3, 3)]\n"
     ]
    }
   ],
   "source": [
    "l_1= \"ACADGILD\"\n",
    "new_l1=[i for i in l_1 ]\n",
    "print(new_l1)\n",
    "\n",
    "\n",
    "l_2=['x','y','z']\n",
    "new_l2=[i*n for i in l_2 for n in range(1,5)]\n",
    "print(new_l2)\n",
    "\n",
    "\n",
    "l_3=['x','y','z']\n",
    "new_l3=[i*j for i in range(1,5) for j in l_3]\n",
    "print(new_l3)\n",
    "\n",
    "\n",
    "l_4=[2,3,4]\n",
    "new_l4=[ [i+n] for i in l_4 for n in range(0,3)]\n",
    "print(new_l4)\n",
    "\n",
    "\n",
    "l_5=[2,3,4,5]\n",
    "new_l5=[ [i+n for i in l_5] for n in range(0,4)]\n",
    "print(new_l5)\n",
    "\n",
    "\n",
    "l_6=[1,2,3]\n",
    "new_l6=[(x,y) for y in l_6  for x in l_6]\n",
    "print(new_l6)"
   ]
  },
  {
   "cell_type": "markdown",
   "metadata": {},
   "source": [
    "**3.Implement a function longestWord() that takes a list of words and returns the longest one.**"
   ]
  },
  {
   "cell_type": "code",
   "execution_count": 4,
   "metadata": {},
   "outputs": [
    {
     "data": {
      "text/plain": [
       "'purple'"
      ]
     },
     "execution_count": 4,
     "metadata": {},
     "output_type": "execute_result"
    }
   ],
   "source": [
    "def longest_word(x):\n",
    "    word=[]\n",
    "    for i in x:\n",
    "        word.append((len(i),i))\n",
    "        word.sort(reverse=True)\n",
    "    return word[0][1]\n",
    "longest_word([\"alpha\",\"omega\",\"up\",\"down\",\"over\",\"under\",\"purple\",\"red\",\"blue\",\"green\"])"
   ]
  },
  {
   "cell_type": "markdown",
   "metadata": {},
   "source": [
    "# Task 2:"
   ]
  },
  {
   "cell_type": "markdown",
   "metadata": {},
   "source": [
    "**1.1 Write a Python Program(with class concepts) to find the area of the triangle using the below\n",
    "formula.**\n",
    "\n",
    "**area = (s*(s-a)*(s-b)*(s-c)) ** 0.5**\n",
    "\n",
    "**Function to take the length of the sides of triangle from user should be defined in the parent\n",
    "class and function to calculate the area should be defined in subclass.**"
   ]
  },
  {
   "cell_type": "code",
   "execution_count": 16,
   "metadata": {},
   "outputs": [
    {
     "name": "stdout",
     "output_type": "stream",
     "text": [
      "Side X: 10\n",
      "Side Y: 15\n",
      "Side Z: 10\n",
      "Area of triangle: 49.607837082461074\n"
     ]
    }
   ],
   "source": [
    "x = int(input('Side X: '))\n",
    "y = int(input('Side Y: '))\n",
    "z = int(input('Side Z: '))\n",
    "class triangle():\n",
    "    def __init__(self,x,y,z):\n",
    "        self.x = x\n",
    "        self.y = y\n",
    "        self.z = z\n",
    "    def area(self):\n",
    "        if ( x<0 or y<0 or z<0):\n",
    "            print(\"invalid data\")\n",
    "        elif(x+y<z or y+z<x or x+z<y):\n",
    "            print(\"invalid data\")\n",
    "        s=(x + y + z)/2\n",
    "        area=(s*(s - x)*(s - y)*(s - z))**(0.5)\n",
    "        return area\n",
    "t = triangle(x, y, z)\n",
    "print(\"Area of triangle:\",t.area())"
   ]
  },
  {
   "cell_type": "markdown",
   "metadata": {},
   "source": [
    "**1.2 Write a function filter_long_words() that takes a list of words and an integer n and returns the list**\n",
    "**of words that are longer than n.**"
   ]
  },
  {
   "cell_type": "code",
   "execution_count": 13,
   "metadata": {},
   "outputs": [
    {
     "data": {
      "text/plain": [
       "['alpha', 'omega']"
      ]
     },
     "execution_count": 13,
     "metadata": {},
     "output_type": "execute_result"
    }
   ],
   "source": [
    "def filter_long_words(x,n):\n",
    "    filters=[]\n",
    "    for i in x:\n",
    "        if len(i)>n:\n",
    "            filters.append(i)\n",
    "       \n",
    "    return filters\n",
    "       \n",
    "filter_long_words([\"alpha\",\"omega\",\"up\",\"down\"],4)       \n",
    "        "
   ]
  },
  {
   "cell_type": "markdown",
   "metadata": {},
   "source": [
    "**2.1 Write a Python program using function concept that maps list of words into a list of integers\n",
    "representing the lengths of the corresponding words.**\n",
    "  **Hint: If a list [ ab,cde,erty] is passed on to the python function output should come as [2,3,4]\n",
    "Here 2,3 and 4 are the lengths of the words in the list.**"
   ]
  },
  {
   "cell_type": "code",
   "execution_count": 7,
   "metadata": {},
   "outputs": [
    {
     "data": {
      "text/plain": [
       "[5, 5, 2, 4, 7]"
      ]
     },
     "execution_count": 7,
     "metadata": {},
     "output_type": "execute_result"
    }
   ],
   "source": [
    "def map(x):\n",
    "    len_words=[]\n",
    "    for i in x:\n",
    "        len_words.append(len(i))\n",
    "    return len_words\n",
    "map([\"alpha\",\"omega\",\"up\",\"down\",'ineuron'])"
   ]
  },
  {
   "cell_type": "markdown",
   "metadata": {},
   "source": [
    "**2.2 Write a Python function which takes a character (i.e. a string of length 1) and returns True if it is\n",
    "a vowel, False otherwise.**\n"
   ]
  },
  {
   "cell_type": "code",
   "execution_count": 8,
   "metadata": {},
   "outputs": [
    {
     "data": {
      "text/plain": [
       "False"
      ]
     },
     "execution_count": 8,
     "metadata": {},
     "output_type": "execute_result"
    }
   ],
   "source": [
    "def character(x):\n",
    "    vovels= ('a','e','i','o','u')\n",
    "    if x in vovels:\n",
    "        return True \n",
    "    return False\n",
    "character(('k'))"
   ]
  }
 ],
 "metadata": {
  "kernelspec": {
   "display_name": "Python 3",
   "language": "python",
   "name": "python3"
  },
  "language_info": {
   "codemirror_mode": {
    "name": "ipython",
    "version": 3
   },
   "file_extension": ".py",
   "mimetype": "text/x-python",
   "name": "python",
   "nbconvert_exporter": "python",
   "pygments_lexer": "ipython3",
   "version": "3.7.3"
  }
 },
 "nbformat": 4,
 "nbformat_minor": 2
}
